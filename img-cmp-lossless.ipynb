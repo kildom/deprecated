{
 "cells": [
  {
   "cell_type": "code",
   "execution_count": null,
   "metadata": {},
   "outputs": [],
   "source": [
    "import tensorflow as tf\n",
    "import numpy as np\n",
    "from IPython import display\n",
    "from pathlib import Path\n",
    "import png\n",
    "import datetime\n",
    "import math\n",
    "import random\n",
    "import itertools\n",
    "import zlib"
   ]
  },
  {
   "cell_type": "code",
   "execution_count": null,
   "metadata": {},
   "outputs": [],
   "source": [
    "r = png.Reader('pigw.png')\n",
    "(width, height, rows_gen, info) = r.read()\n",
    "print(width, height, info)\n",
    "rows = [row for row in rows_gen]\n"
   ]
  },
  {
   "cell_type": "code",
   "execution_count": null,
   "metadata": {},
   "outputs": [],
   "source": [
    "harmonics = 250\n",
    "backward = (1, 2, 3, 4, 5, 7)\n",
    "\n",
    "dropout = tf.keras.layers.Dropout(0.03)\n",
    "\n",
    "model = tf.keras.models.Sequential([\n",
    "  tf.keras.layers.Flatten(input_shape=(2 + 2 * 2 * harmonics + 3 * len(backward),)),\n",
    "  tf.keras.layers.Dense(300, activation='relu'),\n",
    "  tf.keras.layers.Dense(100, activation='relu'),\n",
    "  tf.keras.layers.Dense(1, activation='sigmoid')\n",
    "])\n",
    "\n",
    "model.compile(optimizer='Adam',\n",
    "              loss=tf.keras.losses.MeanSquaredError(),\n",
    "              )\n",
    "\n",
    "tf.keras.utils.plot_model(model, to_file='model.png', show_shapes=True, show_dtype=True, show_layer_names=True, expand_nested=True, show_layer_activations=True, show_trainable=True)\n",
    "model.summary()\n",
    "display.Image(f'model.png')"
   ]
  },
  {
   "cell_type": "code",
   "execution_count": null,
   "metadata": {},
   "outputs": [],
   "source": [
    "\n",
    "def get_harmonics_vect(x, total):\n",
    "    xx = x / total * math.pi\n",
    "    vect = [xx, math.sin(xx), math.cos(xx)]\n",
    "    for i in range(2, 2 * harmonics, 2):\n",
    "        vect.append(math.sin(xx * i))\n",
    "        vect.append(math.cos(xx * i))\n",
    "    return np.array(vect, np.float32)\n",
    "\n",
    "def normalize_color(color):\n",
    "    return color * 0.003125 + 0.1\n",
    "\n",
    "def denormalize_color(color):\n",
    "    return (color - 0.1) * 320\n",
    "\n",
    "class MySequence(tf.keras.utils.Sequence):\n",
    "\n",
    "    def __init__(self, batch_size, randomize, with_border):\n",
    "        self.batch_size = batch_size\n",
    "        self.x_dim = [get_harmonics_vect(x, width) for x in range(width)]\n",
    "        self.y_dim = [get_harmonics_vect(y, height) for y in range(height)]\n",
    "        self.map = list(range(width * height))\n",
    "        self.with_border = with_border\n",
    "        self.randomize = randomize\n",
    "        if randomize:\n",
    "            random.shuffle(self.map)\n",
    "\n",
    "    def on_epoch_end(self):\n",
    "        if self.randomize:\n",
    "            random.shuffle(self.map)\n",
    "\n",
    "    def __len__(self):\n",
    "        return (width * height + self.batch_size - 1) // self.batch_size\n",
    "\n",
    "    def get_input(self, x, y):\n",
    "        right = np.array(list(itertools.repeat(0, len(backward))), np.float32)\n",
    "        up = np.array(list(itertools.repeat(0, len(backward))), np.float32)\n",
    "        diag = np.array(list(itertools.repeat(0, len(backward))), np.float32)\n",
    "        for i in range(len(backward)):\n",
    "            xx = x - backward[i]\n",
    "            yy = y - backward[i]\n",
    "            if xx >= 0: right[i] = normalize_color(rows[y][xx])\n",
    "            if yy >= 0: up[i] = normalize_color(rows[yy][x])\n",
    "            if (xx >= 0) and (yy >= 0): diag[i] = normalize_color(rows[yy][xx])\n",
    "        return np.concatenate((self.x_dim[x], self.y_dim[y], right, up, diag), axis=0)\n",
    "\n",
    "    def __getitem__(self, index):\n",
    "        pixels = range(index * self.batch_size, min(width * height, (index + 1) * self.batch_size))\n",
    "        pixels = list(map(lambda i: self.map[i], pixels))\n",
    "        if not self.with_border:\n",
    "            pixels = list(filter(lambda i: (i // width > 7) and (i % width > 7), pixels))\n",
    "        return (\n",
    "                np.array([self.get_input(i % width, i // width) for i in pixels], np.float32),\n",
    "                np.array([normalize_color(rows[i // width][i % width]) for i in pixels], np.float32)\n",
    "               )"
   ]
  },
  {
   "cell_type": "code",
   "execution_count": null,
   "metadata": {},
   "outputs": [],
   "source": [
    "# tensorboard --logdir logs/fit\n",
    "\n",
    "train_data = MySequence(1000, True, False)\n",
    "\n",
    "#model.optimizer.learning_rate = 0.001\n",
    "#dropout.rate = 0.99\n",
    "\n",
    "log_dir = \"logs/fit/\" + datetime.datetime.now().strftime(\"%Y%m%d-%H%M%S\")\n",
    "tensorboard_callback = tf.keras.callbacks.TensorBoard(log_dir=log_dir, histogram_freq=1)\n",
    "\n",
    "model.fit(x=train_data,\n",
    "          epochs=30,\n",
    "          callbacks=[tensorboard_callback]\n",
    "          )\n"
   ]
  },
  {
   "cell_type": "code",
   "execution_count": null,
   "metadata": {},
   "outputs": [],
   "source": [
    "train_data = MySequence(14000, False, True)\n",
    "\n",
    "outputs = []\n",
    "for i in range(len(train_data)):\n",
    "    x_data, _ = train_data[i]\n",
    "    r = model.predict(x_data)\n",
    "    outputs.extend(r)\n",
    "\n",
    "outputs = np.concatenate(outputs, axis=0)\n"
   ]
  },
  {
   "cell_type": "code",
   "execution_count": null,
   "metadata": {},
   "outputs": [],
   "source": [
    "\n",
    "w = png.Writer(width, height, greyscale=True, bitdepth=8)\n",
    "with open('out.png', 'wb') as fd:\n",
    "    w.write(fd, (denormalize_color(outputs[i:i+width]).astype(np.uint8) for i in range(0, width * height, width)))\n",
    "\n",
    "mul = 10\n",
    "\n",
    "bytes_diff = bytearray()\n",
    "img_diff = bytearray()\n",
    "for i in range(width * height):\n",
    "    x = i % width\n",
    "    y = i // width\n",
    "    col = round(denormalize_color(float(outputs[i])))\n",
    "    col = min(255, max(0, col))\n",
    "    img_diff.append(min(255, max(0, mul * (col - rows[y][x]) + 128)))\n",
    "    diff = (col - rows[y][x]) & 0xFF\n",
    "    bytes_diff.append(diff)\n",
    "\n",
    "#print(all_diff)\n",
    "print(len(zlib.compress(bytes_diff, level=9))) # wbits=-15\n",
    "\n",
    "w = png.Writer(width, height, greyscale=True, bitdepth=8)\n",
    "with open('out-diff.png', 'wb') as fd:\n",
    "    w.write(fd, [img_diff[i:i+width] for i in range(0, width * height, width)])\n",
    "\n",
    "display.Image(f'out-diff.png')\n"
   ]
  },
  {
   "cell_type": "code",
   "execution_count": null,
   "metadata": {},
   "outputs": [],
   "source": [
    "display.Image(f'lena-gr.png')"
   ]
  }
 ],
 "metadata": {
  "kernelspec": {
   "display_name": ".venv",
   "language": "python",
   "name": "python3"
  },
  "language_info": {
   "codemirror_mode": {
    "name": "ipython",
    "version": 3
   },
   "file_extension": ".py",
   "mimetype": "text/x-python",
   "name": "python",
   "nbconvert_exporter": "python",
   "pygments_lexer": "ipython3",
   "version": "3.10.12"
  },
  "orig_nbformat": 4
 },
 "nbformat": 4,
 "nbformat_minor": 2
}
