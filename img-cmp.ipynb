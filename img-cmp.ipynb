{
 "cells": [
  {
   "cell_type": "code",
   "execution_count": null,
   "metadata": {},
   "outputs": [],
   "source": [
    "import tensorflow as tf\n",
    "import numpy as np\n",
    "from IPython import display\n",
    "from pathlib import Path\n",
    "import png\n",
    "import datetime\n",
    "import math\n",
    "import random"
   ]
  },
  {
   "cell_type": "code",
   "execution_count": null,
   "metadata": {},
   "outputs": [],
   "source": [
    "r = png.Reader('lena-gr.png')\n",
    "(width, height, rows_gen, info) = r.read()\n",
    "print(width, height, info)\n",
    "rows = [row for row in rows_gen]\n"
   ]
  },
  {
   "cell_type": "code",
   "execution_count": null,
   "metadata": {},
   "outputs": [],
   "source": [
    "\n",
    "dropout = tf.keras.layers.Dropout(0.03)\n",
    "\n",
    "model = tf.keras.models.Sequential([\n",
    "  #tf.keras.layers.Flatten(input_shape=(2,)),\n",
    "  tf.keras.layers.Flatten(input_shape=(2*width + 2*height - 2,)),\n",
    "  tf.keras.layers.Dense(500, activation='leaky_relu'),\n",
    "  tf.keras.layers.Dense(200, activation='leaky_relu'),\n",
    "  tf.keras.layers.Dense(1, activation='linear')\n",
    "])\n",
    "\n",
    "model.compile(optimizer='Adam',\n",
    "              loss=tf.keras.losses.MeanSquaredError(),\n",
    "              #metrics=['binary_accuracy', tf.keras.metrics.FalseNegatives(), tf.keras.metrics.FalsePositives()]\n",
    "              )\n",
    "\n",
    "tf.keras.utils.plot_model(model, to_file='model.png', show_shapes=True, show_dtype=True, show_layer_names=True, expand_nested=True, show_layer_activations=True, show_trainable=True)\n",
    "model.summary()\n",
    "display.Image(f'model.png')"
   ]
  },
  {
   "cell_type": "code",
   "execution_count": null,
   "metadata": {},
   "outputs": [],
   "source": [
    "\n",
    "class MySequence(tf.keras.utils.Sequence):\n",
    "\n",
    "    def __init__(self, batch_size, randomize):\n",
    "        self.batch_size = batch_size\n",
    "        self.x_dim = []\n",
    "        for x in range(width):\n",
    "            xx = x / width * math.pi\n",
    "            vect = [xx]\n",
    "            for i in range(1, width):\n",
    "                vect.append(math.sin(xx * i))\n",
    "                vect.append(math.cos(xx * i))\n",
    "            self.x_dim.append(np.array(vect, np.float32))\n",
    "        self.y_dim = []\n",
    "        for y in range(height):\n",
    "            yy = y / height * math.pi\n",
    "            vect = [yy]\n",
    "            for i in range(1, height):\n",
    "                vect.append(math.sin(yy * i))\n",
    "                vect.append(math.cos(yy * i))\n",
    "            self.y_dim.append(np.array(vect, np.float32))\n",
    "        self.map = list(range(width * height))\n",
    "        self.randomize = randomize\n",
    "        if randomize:\n",
    "            random.shuffle(self.map)\n",
    "\n",
    "    def on_epoch_end(self):\n",
    "        if self.randomize:\n",
    "            random.shuffle(self.map)\n",
    "\n",
    "    def __len__(self):\n",
    "        return (width * height + self.batch_size - 1) // self.batch_size\n",
    "\n",
    "    def __getitem__(self, index):\n",
    "        pixels = range(index * self.batch_size, min(width * height, (index + 1) * self.batch_size))\n",
    "        pixels = list(map(lambda i: self.map[i], pixels))\n",
    "        return (\n",
    "                np.array([np.concatenate((self.x_dim[i % width], self.y_dim[i // width]), axis=0) for i in pixels], np.float32),\n",
    "                #np.array([[i % width / width * math.pi, i // width / height * math.pi] for i in pixels], np.float32),\n",
    "                np.array([rows[i // width][i % width] * 0.003125 + 0.1 for i in pixels], np.float32)\n",
    "               )"
   ]
  },
  {
   "cell_type": "code",
   "execution_count": null,
   "metadata": {},
   "outputs": [],
   "source": [
    "train_data = MySequence(1000, True)\n",
    "\n",
    "#model.optimizer.learning_rate = 0.001\n",
    "#dropout.rate = 0.99\n",
    "\n",
    "log_dir = \"logs/fit/\" + datetime.datetime.now().strftime(\"%Y%m%d-%H%M%S\")\n",
    "tensorboard_callback = tf.keras.callbacks.TensorBoard(log_dir=log_dir, histogram_freq=1)\n",
    "\n",
    "model.fit(x=train_data,\n",
    "          epochs=30,\n",
    "          callbacks=[tensorboard_callback]\n",
    "          )\n"
   ]
  },
  {
   "cell_type": "code",
   "execution_count": null,
   "metadata": {},
   "outputs": [],
   "source": [
    "\n",
    "#all_pixels = range(width * height)\n",
    "#inputs = np.array([[i % width / width, i // width / height] for i in all_pixels], np.float32)\n",
    "#outputs = model.predict(inputs)\n",
    "\n",
    "train_data = MySequence(14000, False)\n",
    "\n",
    "outputs = []\n",
    "for i in range(len(train_data)):\n",
    "    x_data, _ = train_data[i]\n",
    "    r = model.predict(x_data)\n",
    "    outputs.extend(r)\n",
    "\n",
    "outputs = np.concatenate(outputs, axis=0)\n",
    "\n",
    "w = png.Writer(width, height, greyscale=True, bitdepth=8)\n",
    "with open('out.png', 'wb') as fd:\n",
    "    w.write(fd, (((outputs[i:i+width] - 0.01) * 320).astype(np.uint8) for i in range(0, width * height, width)))\n",
    "\n",
    "display.Image(f'out.png')\n"
   ]
  },
  {
   "cell_type": "code",
   "execution_count": null,
   "metadata": {},
   "outputs": [],
   "source": [
    "display.Image(f'lena-gr.png')"
   ]
  }
 ],
 "metadata": {
  "kernelspec": {
   "display_name": ".venv",
   "language": "python",
   "name": "python3"
  },
  "language_info": {
   "codemirror_mode": {
    "name": "ipython",
    "version": 3
   },
   "file_extension": ".py",
   "mimetype": "text/x-python",
   "name": "python",
   "nbconvert_exporter": "python",
   "pygments_lexer": "ipython3",
   "version": "3.10.12"
  },
  "orig_nbformat": 4
 },
 "nbformat": 4,
 "nbformat_minor": 2
}
